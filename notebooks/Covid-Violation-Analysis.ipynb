{
 "cells": [
  {
   "cell_type": "markdown",
   "metadata": {},
   "source": [
    "#### Import Library"
   ]
  },
  {
   "cell_type": "code",
   "execution_count": 1,
   "metadata": {},
   "outputs": [],
   "source": [
    "import pandas as pd\n",
    "from sqlalchemy import create_engine\n",
    "import numpy as np\n",
    "import matplotlib.pyplot as plt\n",
    "import seaborn as sns\n",
    "\n",
    "from credentials import user\n",
    "from credentials import server\n",
    "from credentials import password\n",
    "\n",
    "from credentials import user, password, server"
   ]
  },
  {
   "cell_type": "markdown",
   "metadata": {},
   "source": [
    "#### Formatting"
   ]
  },
  {
   "cell_type": "code",
   "execution_count": 2,
   "metadata": {},
   "outputs": [],
   "source": [
    "%matplotlib inline"
   ]
  },
  {
   "cell_type": "markdown",
   "metadata": {},
   "source": [
    "#### Using the pandas read_csv() function, read the dataset into your notebook as DataFrames. \n"
   ]
  },
  {
   "cell_type": "code",
   "execution_count": 3,
   "metadata": {},
   "outputs": [
    {
     "data": {
      "text/html": [
       "<div>\n",
       "<style scoped>\n",
       "    .dataframe tbody tr th:only-of-type {\n",
       "        vertical-align: middle;\n",
       "    }\n",
       "\n",
       "    .dataframe tbody tr th {\n",
       "        vertical-align: top;\n",
       "    }\n",
       "\n",
       "    .dataframe thead th {\n",
       "        text-align: right;\n",
       "    }\n",
       "</style>\n",
       "<table border=\"1\" class=\"dataframe\">\n",
       "  <thead>\n",
       "    <tr style=\"text-align: right;\">\n",
       "      <th></th>\n",
       "      <th>Request #</th>\n",
       "      <th>Status</th>\n",
       "      <th>Request Type</th>\n",
       "      <th>Subrequest Type</th>\n",
       "      <th>Additional Subrequest Type</th>\n",
       "      <th>Date / Time Opened</th>\n",
       "      <th>Date / Time Closed</th>\n",
       "      <th>Request Origin</th>\n",
       "      <th>System of Origin ID</th>\n",
       "      <th>Contact Type</th>\n",
       "      <th>...</th>\n",
       "      <th>State Issue</th>\n",
       "      <th>Parent Request</th>\n",
       "      <th>Closed When Created</th>\n",
       "      <th>Address</th>\n",
       "      <th>City</th>\n",
       "      <th>Council District</th>\n",
       "      <th>ZIP</th>\n",
       "      <th>Latitude</th>\n",
       "      <th>Longitude</th>\n",
       "      <th>Mapped Location</th>\n",
       "    </tr>\n",
       "  </thead>\n",
       "  <tbody>\n",
       "    <tr>\n",
       "      <td>0</td>\n",
       "      <td>353977</td>\n",
       "      <td>Closed</td>\n",
       "      <td>COVID-19</td>\n",
       "      <td>COVID-19 - Submit Input about The Plan to Reop...</td>\n",
       "      <td>COVID-19 - Submit Input about The Plan to Reop...</td>\n",
       "      <td>04/28/2020 02:33:22 PM</td>\n",
       "      <td>04/28/2020 02:33:22 PM</td>\n",
       "      <td>hubNashville Community</td>\n",
       "      <td>NaN</td>\n",
       "      <td>NaN</td>\n",
       "      <td>...</td>\n",
       "      <td>False</td>\n",
       "      <td>NaN</td>\n",
       "      <td>True</td>\n",
       "      <td>NaN</td>\n",
       "      <td>NaN</td>\n",
       "      <td>NaN</td>\n",
       "      <td>NaN</td>\n",
       "      <td>NaN</td>\n",
       "      <td>NaN</td>\n",
       "      <td>NaN</td>\n",
       "    </tr>\n",
       "    <tr>\n",
       "      <td>1</td>\n",
       "      <td>367021</td>\n",
       "      <td>Closed</td>\n",
       "      <td>Resolved by hubNashville on First Call</td>\n",
       "      <td>Resolved by hubNashville on First Call</td>\n",
       "      <td>Resolved by hubNashville on First Call</td>\n",
       "      <td>05/13/2020 09:00:52 PM</td>\n",
       "      <td>05/13/2020 09:00:52 PM</td>\n",
       "      <td>Phone</td>\n",
       "      <td>NaN</td>\n",
       "      <td>NaN</td>\n",
       "      <td>...</td>\n",
       "      <td>False</td>\n",
       "      <td>NaN</td>\n",
       "      <td>True</td>\n",
       "      <td>NaN</td>\n",
       "      <td>NaN</td>\n",
       "      <td>NaN</td>\n",
       "      <td>NaN</td>\n",
       "      <td>NaN</td>\n",
       "      <td>NaN</td>\n",
       "      <td>NaN</td>\n",
       "    </tr>\n",
       "    <tr>\n",
       "      <td>2</td>\n",
       "      <td>419194</td>\n",
       "      <td>Closed</td>\n",
       "      <td>Streets, Roads &amp; Sidewalks</td>\n",
       "      <td>Remove debris in roadway</td>\n",
       "      <td>Roadway</td>\n",
       "      <td>07/17/2020 03:21:03 PM</td>\n",
       "      <td>07/28/2020 04:06:19 PM</td>\n",
       "      <td>hubNashville Community</td>\n",
       "      <td>NaN</td>\n",
       "      <td>NaN</td>\n",
       "      <td>...</td>\n",
       "      <td>False</td>\n",
       "      <td>NaN</td>\n",
       "      <td>False</td>\n",
       "      <td>Lafayette St &amp; Claiborne St</td>\n",
       "      <td>NASHVILLE</td>\n",
       "      <td>17.0</td>\n",
       "      <td>37210</td>\n",
       "      <td>36.148412</td>\n",
       "      <td>-86.761179</td>\n",
       "      <td>(36.1484116, -86.761179)</td>\n",
       "    </tr>\n",
       "    <tr>\n",
       "      <td>3</td>\n",
       "      <td>366600</td>\n",
       "      <td>Closed</td>\n",
       "      <td>Resolved by hubNashville on First Call</td>\n",
       "      <td>Resolved by hubNashville on First Call</td>\n",
       "      <td>Resolved by hubNashville on First Call</td>\n",
       "      <td>05/13/2020 04:04:14 PM</td>\n",
       "      <td>05/13/2020 04:04:14 PM</td>\n",
       "      <td>Phone</td>\n",
       "      <td>NaN</td>\n",
       "      <td>NaN</td>\n",
       "      <td>...</td>\n",
       "      <td>False</td>\n",
       "      <td>NaN</td>\n",
       "      <td>True</td>\n",
       "      <td>NaN</td>\n",
       "      <td>NaN</td>\n",
       "      <td>NaN</td>\n",
       "      <td>NaN</td>\n",
       "      <td>NaN</td>\n",
       "      <td>NaN</td>\n",
       "      <td>NaN</td>\n",
       "    </tr>\n",
       "    <tr>\n",
       "      <td>4</td>\n",
       "      <td>408945</td>\n",
       "      <td>Closed</td>\n",
       "      <td>Resolved by hubNashville on First Call</td>\n",
       "      <td>Resolved by hubNashville on First Call</td>\n",
       "      <td>Resolved by hubNashville on First Call</td>\n",
       "      <td>07/06/2020 05:57:28 PM</td>\n",
       "      <td>07/06/2020 05:57:28 PM</td>\n",
       "      <td>Phone</td>\n",
       "      <td>NaN</td>\n",
       "      <td>NaN</td>\n",
       "      <td>...</td>\n",
       "      <td>False</td>\n",
       "      <td>NaN</td>\n",
       "      <td>True</td>\n",
       "      <td>NaN</td>\n",
       "      <td>NaN</td>\n",
       "      <td>NaN</td>\n",
       "      <td>NaN</td>\n",
       "      <td>NaN</td>\n",
       "      <td>NaN</td>\n",
       "      <td>NaN</td>\n",
       "    </tr>\n",
       "  </tbody>\n",
       "</table>\n",
       "<p>5 rows × 21 columns</p>\n",
       "</div>"
      ],
      "text/plain": [
       "   Request #  Status                            Request Type  \\\n",
       "0     353977  Closed                                COVID-19   \n",
       "1     367021  Closed  Resolved by hubNashville on First Call   \n",
       "2     419194  Closed              Streets, Roads & Sidewalks   \n",
       "3     366600  Closed  Resolved by hubNashville on First Call   \n",
       "4     408945  Closed  Resolved by hubNashville on First Call   \n",
       "\n",
       "                                     Subrequest Type  \\\n",
       "0  COVID-19 - Submit Input about The Plan to Reop...   \n",
       "1             Resolved by hubNashville on First Call   \n",
       "2                           Remove debris in roadway   \n",
       "3             Resolved by hubNashville on First Call   \n",
       "4             Resolved by hubNashville on First Call   \n",
       "\n",
       "                          Additional Subrequest Type      Date / Time Opened  \\\n",
       "0  COVID-19 - Submit Input about The Plan to Reop...  04/28/2020 02:33:22 PM   \n",
       "1             Resolved by hubNashville on First Call  05/13/2020 09:00:52 PM   \n",
       "2                                            Roadway  07/17/2020 03:21:03 PM   \n",
       "3             Resolved by hubNashville on First Call  05/13/2020 04:04:14 PM   \n",
       "4             Resolved by hubNashville on First Call  07/06/2020 05:57:28 PM   \n",
       "\n",
       "       Date / Time Closed          Request Origin System of Origin ID  \\\n",
       "0  04/28/2020 02:33:22 PM  hubNashville Community                 NaN   \n",
       "1  05/13/2020 09:00:52 PM                   Phone                 NaN   \n",
       "2  07/28/2020 04:06:19 PM  hubNashville Community                 NaN   \n",
       "3  05/13/2020 04:04:14 PM                   Phone                 NaN   \n",
       "4  07/06/2020 05:57:28 PM                   Phone                 NaN   \n",
       "\n",
       "  Contact Type  ...  State Issue  Parent Request  Closed When Created  \\\n",
       "0          NaN  ...        False             NaN                 True   \n",
       "1          NaN  ...        False             NaN                 True   \n",
       "2          NaN  ...        False             NaN                False   \n",
       "3          NaN  ...        False             NaN                 True   \n",
       "4          NaN  ...        False             NaN                 True   \n",
       "\n",
       "                       Address       City Council District    ZIP   Latitude  \\\n",
       "0                          NaN        NaN              NaN    NaN        NaN   \n",
       "1                          NaN        NaN              NaN    NaN        NaN   \n",
       "2  Lafayette St & Claiborne St  NASHVILLE             17.0  37210  36.148412   \n",
       "3                          NaN        NaN              NaN    NaN        NaN   \n",
       "4                          NaN        NaN              NaN    NaN        NaN   \n",
       "\n",
       "   Longitude           Mapped Location  \n",
       "0        NaN                       NaN  \n",
       "1        NaN                       NaN  \n",
       "2 -86.761179  (36.1484116, -86.761179)  \n",
       "3        NaN                       NaN  \n",
       "4        NaN                       NaN  \n",
       "\n",
       "[5 rows x 21 columns]"
      ]
     },
     "execution_count": 3,
     "metadata": {},
     "output_type": "execute_result"
    }
   ],
   "source": [
    "hubnash = pd.read_csv('../data/hubNashville__311__Service_Requests.csv', low_memory=False)\n",
    "hubnash.head(5)"
   ]
  },
  {
   "cell_type": "code",
   "execution_count": 10,
   "metadata": {},
   "outputs": [],
   "source": [
    "# Be sure that Postgres/PGAdmin is launched\n",
    "\n",
    "# establish a database connection\n",
    "\n",
    "\n",
    "# Replace `<lahman_baseball_database_name>` with the actual name of your lahman baseball database as it appears in pgadmin\n",
    "#covid_data is the database name\n",
    "#put on separate line \\ does not work\n",
    "engine = create_engine(\"postgres+psycopg2://\"+user+\":\"+password+\"@\"+server+\":5432/covid_data\")"
   ]
  },
  {
   "cell_type": "markdown",
   "metadata": {},
   "source": [
    "#### Explore the COVID-19 violations reported through hubNashville to see how these have changed over time. \n",
    "#### Do violations get reported more in certain areas?"
   ]
  },
  {
   "cell_type": "code",
   "execution_count": null,
   "metadata": {},
   "outputs": [],
   "source": [
    "# Examine shapes of dataframes. Numbers of columns and rows\n",
    "hubnash.shape"
   ]
  },
  {
   "cell_type": "code",
   "execution_count": null,
   "metadata": {},
   "outputs": [],
   "source": [
    "# Examine data types for the columns in each table\n",
    "hubnash.dtypes"
   ]
  },
  {
   "cell_type": "code",
   "execution_count": null,
   "metadata": {},
   "outputs": [],
   "source": [
    "# tail of hubnash df\n",
    "hubnash.tail()"
   ]
  },
  {
   "cell_type": "markdown",
   "metadata": {},
   "source": [
    "#### Data Cleaning for hubnash df"
   ]
  },
  {
   "cell_type": "code",
   "execution_count": null,
   "metadata": {},
   "outputs": [],
   "source": [
    "# check if any value is NaN in a Pandas DataFrame\n",
    "\n",
    "hubnash.info()"
   ]
  },
  {
   "cell_type": "code",
   "execution_count": null,
   "metadata": {},
   "outputs": [],
   "source": [
    "# subset Subrequest Type COVID-19 Violations\n",
    "#df[df['Position'].str.contains(\"PG\")] does not work so do a absoluate == to subset\n",
    "hubnash_covid = hubnash[hubnash['Subrequest Type'] == 'COVID-19 Violations'] \n"
   ]
  },
  {
   "cell_type": "code",
   "execution_count": null,
   "metadata": {},
   "outputs": [],
   "source": [
    "hubnash_covid"
   ]
  },
  {
   "cell_type": "code",
   "execution_count": null,
   "metadata": {},
   "outputs": [],
   "source": [
    "#Further clean up by dropping unecessary columns\n",
    "hubnash_covid = hubnash_covid.drop(columns = ['Request #','Request Type','Additional Subrequest Type','System of Origin ID','Contact Type','Preferred Language','State Issue','Parent Request' ])"
   ]
  },
  {
   "cell_type": "code",
   "execution_count": null,
   "metadata": {},
   "outputs": [],
   "source": [
    "#look at columns now\n",
    "hubnash_covid.columns"
   ]
  },
  {
   "cell_type": "code",
   "execution_count": null,
   "metadata": {},
   "outputs": [],
   "source": [
    "hubnash_covid"
   ]
  },
  {
   "cell_type": "code",
   "execution_count": null,
   "metadata": {},
   "outputs": [],
   "source": [
    "# Change two columns to datetimeto datetime format\n",
    "#df['Date']= pd.to_datetime(df['Date'])\n",
    "\n",
    "hubnash_covid['Date / Time Opened'] = pd.to_datetime(hubnash_covid['Date / Time Opened'])\n",
    "hubnash_covid['Date / Time Closed'] = pd.to_datetime(hubnash_covid['Date / Time Closed'])\n",
    "\n",
    "\n"
   ]
  },
  {
   "cell_type": "code",
   "execution_count": null,
   "metadata": {},
   "outputs": [],
   "source": [
    "#set the datetime object as the index of the dataframe using the .set_index()\n",
    "hubnash_covid_set = hubnash_covid.set_index('Date / Time Opened')\n",
    "hubnash_covid_set.head()"
   ]
  },
  {
   "cell_type": "code",
   "execution_count": null,
   "metadata": {},
   "outputs": [],
   "source": [
    "#look at month volume change with request\n",
    "hubnash_covid['Date / Time Opened'].dt.month"
   ]
  },
  {
   "cell_type": "code",
   "execution_count": null,
   "metadata": {},
   "outputs": [],
   "source": [
    "# Create a regression plot for the timeseries date/time opened as x axis and subrequest type for y axis\n",
    "#f, ax = plt.subplots(figsize=(5,6))\n",
    "#reqeust_volume = sns.regplot(x='Date / Time Opened', y='Subrequest Type', data=hubnash_covid, ax=ax)"
   ]
  },
  {
   "cell_type": "code",
   "execution_count": null,
   "metadata": {},
   "outputs": [],
   "source": [
    "hubnash_covid['Date / Time Opened'].dt.month.value_counts()"
   ]
  },
  {
   "cell_type": "code",
   "execution_count": null,
   "metadata": {},
   "outputs": [],
   "source": [
    "months_counts = hubnash_covid['Date / Time Opened'].dt.month.value_counts().reset_index()\n",
    "#reset series to dataframe"
   ]
  },
  {
   "cell_type": "code",
   "execution_count": null,
   "metadata": {},
   "outputs": [],
   "source": [
    "months_counts.head(5)"
   ]
  },
  {
   "cell_type": "code",
   "execution_count": null,
   "metadata": {},
   "outputs": [],
   "source": [
    "months_counts.columns = ['month', 'covid_violation_count']\n",
    "months_counts.head()"
   ]
  },
  {
   "cell_type": "code",
   "execution_count": null,
   "metadata": {},
   "outputs": [],
   "source": [
    "months_counts.sort_values('month')"
   ]
  },
  {
   "cell_type": "code",
   "execution_count": null,
   "metadata": {},
   "outputs": [],
   "source": [
    "months_counts.sort_values('month').reset_index()"
   ]
  },
  {
   "cell_type": "code",
   "execution_count": null,
   "metadata": {},
   "outputs": [],
   "source": []
  }
 ],
 "metadata": {
  "kernelspec": {
   "display_name": "Python 3",
   "language": "python",
   "name": "python3"
  },
  "language_info": {
   "codemirror_mode": {
    "name": "ipython",
    "version": 3
   },
   "file_extension": ".py",
   "mimetype": "text/x-python",
   "name": "python",
   "nbconvert_exporter": "python",
   "pygments_lexer": "ipython3",
   "version": "3.7.4"
  }
 },
 "nbformat": 4,
 "nbformat_minor": 2
}
