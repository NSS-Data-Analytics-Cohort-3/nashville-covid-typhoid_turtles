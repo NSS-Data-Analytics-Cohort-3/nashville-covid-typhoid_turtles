{
 "cells": [
  {
   "cell_type": "markdown",
   "metadata": {},
   "source": [
    "### Imports and prelims"
   ]
  },
  {
   "cell_type": "code",
   "execution_count": 16,
   "metadata": {},
   "outputs": [],
   "source": [
    "from credentials import user, password, server\n",
    "import pandas as pd\n",
    "import numpy as np\n",
    "import matplotlib.pyplot as plt\n",
    "from sqlalchemy import create_engine\n",
    "import seaborn as sb"
   ]
  },
  {
   "cell_type": "code",
   "execution_count": 11,
   "metadata": {},
   "outputs": [],
   "source": [
    "engine = create_engine(\"postgres+psycopg2://\"+user+\":\"+password+\"@\"+server+\":5432/covid_data\")"
   ]
  },
  {
   "cell_type": "code",
   "execution_count": 12,
   "metadata": {},
   "outputs": [],
   "source": [
    "colleges_df = pd.read_sql(\"SELECT * FROM colleges;\", con=engine)\n",
    "counties_df = pd.read_sql(\"SELECT * FROM counties;\", con=engine)\n",
    "mask_use_df = pd.read_sql(\"SELECT * FROM mask_use;\", con=engine)\n",
    "states_df = pd.read_sql(\"SELECT * FROM states;\", con=engine)\n",
    "us_totals_df = pd.read_sql(\"SELECT * FROM us_totals;\", con=engine)"
   ]
  },
  {
   "cell_type": "code",
   "execution_count": 13,
   "metadata": {},
   "outputs": [],
   "source": [
    "businesses_df = pd.read_csv('../data/businesses.csv')"
   ]
  },
  {
   "cell_type": "code",
   "execution_count": 14,
   "metadata": {},
   "outputs": [],
   "source": [
    "clusters_df = pd.read_csv('../data/clusters.csv')"
   ]
  },
  {
   "cell_type": "code",
   "execution_count": 15,
   "metadata": {},
   "outputs": [],
   "source": [
    "hub_nash_df = pd.read_csv('../data/hubNashville__311__Service_Requests.csv', low_memory=False)"
   ]
  },
  {
   "cell_type": "code",
   "execution_count": 41,
   "metadata": {},
   "outputs": [
    {
     "data": {
      "text/html": [
       "<div>\n",
       "<style scoped>\n",
       "    .dataframe tbody tr th:only-of-type {\n",
       "        vertical-align: middle;\n",
       "    }\n",
       "\n",
       "    .dataframe tbody tr th {\n",
       "        vertical-align: top;\n",
       "    }\n",
       "\n",
       "    .dataframe thead th {\n",
       "        text-align: right;\n",
       "    }\n",
       "</style>\n",
       "<table border=\"1\" class=\"dataframe\">\n",
       "  <thead>\n",
       "    <tr style=\"text-align: right;\">\n",
       "      <th></th>\n",
       "      <th>Cluster Name</th>\n",
       "      <th>Facility Type</th>\n",
       "      <th>Cluster Start Date</th>\n",
       "      <th># Cases</th>\n",
       "      <th>Latitude</th>\n",
       "      <th>Longitude</th>\n",
       "    </tr>\n",
       "  </thead>\n",
       "  <tbody>\n",
       "    <tr>\n",
       "      <th>0</th>\n",
       "      <td>Vanderbilt Parties</td>\n",
       "      <td>Social Gathering</td>\n",
       "      <td>3/11/2020</td>\n",
       "      <td>49</td>\n",
       "      <td>36.144703</td>\n",
       "      <td>-86.802655</td>\n",
       "    </tr>\n",
       "    <tr>\n",
       "      <th>1</th>\n",
       "      <td>Event at Clementine Hall</td>\n",
       "      <td>Social Gathering</td>\n",
       "      <td>3/14/2020</td>\n",
       "      <td>23</td>\n",
       "      <td>36.152444</td>\n",
       "      <td>-86.844583</td>\n",
       "    </tr>\n",
       "    <tr>\n",
       "      <th>2</th>\n",
       "      <td>Religious Retreat</td>\n",
       "      <td>Social Gathering</td>\n",
       "      <td>3/25/2020</td>\n",
       "      <td>18</td>\n",
       "      <td>NaN</td>\n",
       "      <td>NaN</td>\n",
       "    </tr>\n",
       "    <tr>\n",
       "      <th>3</th>\n",
       "      <td>The Health Center at Richland Place</td>\n",
       "      <td>LTCF</td>\n",
       "      <td>4/3/2020</td>\n",
       "      <td>47</td>\n",
       "      <td>36.128750</td>\n",
       "      <td>-86.817345</td>\n",
       "    </tr>\n",
       "    <tr>\n",
       "      <th>4</th>\n",
       "      <td>Trevecca Center for Rehab and Healing</td>\n",
       "      <td>LTCF</td>\n",
       "      <td>4/4/2020</td>\n",
       "      <td>102</td>\n",
       "      <td>36.144562</td>\n",
       "      <td>-86.754560</td>\n",
       "    </tr>\n",
       "    <tr>\n",
       "      <th>...</th>\n",
       "      <td>...</td>\n",
       "      <td>...</td>\n",
       "      <td>...</td>\n",
       "      <td>...</td>\n",
       "      <td>...</td>\n",
       "      <td>...</td>\n",
       "    </tr>\n",
       "    <tr>\n",
       "      <th>57</th>\n",
       "      <td>One Stone Church Service</td>\n",
       "      <td>Church</td>\n",
       "      <td>9/22/2020</td>\n",
       "      <td>10</td>\n",
       "      <td>36.189960</td>\n",
       "      <td>-86.765149</td>\n",
       "    </tr>\n",
       "    <tr>\n",
       "      <th>58</th>\n",
       "      <td>Miss Kelli's</td>\n",
       "      <td>Bar</td>\n",
       "      <td>10/1/2020</td>\n",
       "      <td>14</td>\n",
       "      <td>36.164369</td>\n",
       "      <td>-86.778515</td>\n",
       "    </tr>\n",
       "    <tr>\n",
       "      <th>59</th>\n",
       "      <td>Nashville Rescue Mission - Women's Campus</td>\n",
       "      <td>Congregate Living</td>\n",
       "      <td>10/1/2020</td>\n",
       "      <td>70</td>\n",
       "      <td>36.153700</td>\n",
       "      <td>-86.777276</td>\n",
       "    </tr>\n",
       "    <tr>\n",
       "      <th>60</th>\n",
       "      <td>Link Systems Electric</td>\n",
       "      <td>Other</td>\n",
       "      <td>10/16/2020</td>\n",
       "      <td>12</td>\n",
       "      <td>36.092924</td>\n",
       "      <td>-86.741684</td>\n",
       "    </tr>\n",
       "    <tr>\n",
       "      <th>61</th>\n",
       "      <td>Iron Tribe Belmont</td>\n",
       "      <td>Gym</td>\n",
       "      <td>10/20/2020</td>\n",
       "      <td>14</td>\n",
       "      <td>36.116854</td>\n",
       "      <td>-86.798115</td>\n",
       "    </tr>\n",
       "  </tbody>\n",
       "</table>\n",
       "<p>62 rows × 6 columns</p>\n",
       "</div>"
      ],
      "text/plain": [
       "                                 Cluster Name      Facility Type  \\\n",
       "0                          Vanderbilt Parties   Social Gathering   \n",
       "1                    Event at Clementine Hall   Social Gathering   \n",
       "2                           Religious Retreat   Social Gathering   \n",
       "3         The Health Center at Richland Place               LTCF   \n",
       "4       Trevecca Center for Rehab and Healing               LTCF   \n",
       "..                                        ...                ...   \n",
       "57                   One Stone Church Service             Church   \n",
       "58                               Miss Kelli's                Bar   \n",
       "59  Nashville Rescue Mission - Women's Campus  Congregate Living   \n",
       "60                      Link Systems Electric              Other   \n",
       "61                         Iron Tribe Belmont                Gym   \n",
       "\n",
       "   Cluster Start Date  # Cases   Latitude  Longitude  \n",
       "0           3/11/2020       49  36.144703 -86.802655  \n",
       "1           3/14/2020       23  36.152444 -86.844583  \n",
       "2           3/25/2020       18        NaN        NaN  \n",
       "3            4/3/2020       47  36.128750 -86.817345  \n",
       "4            4/4/2020      102  36.144562 -86.754560  \n",
       "..                ...      ...        ...        ...  \n",
       "57          9/22/2020       10  36.189960 -86.765149  \n",
       "58          10/1/2020       14  36.164369 -86.778515  \n",
       "59          10/1/2020       70  36.153700 -86.777276  \n",
       "60         10/16/2020       12  36.092924 -86.741684  \n",
       "61         10/20/2020       14  36.116854 -86.798115  \n",
       "\n",
       "[62 rows x 6 columns]"
      ]
     },
     "execution_count": 41,
     "metadata": {},
     "output_type": "execute_result"
    }
   ],
   "source": [
    "clusters_df"
   ]
  },
  {
   "cell_type": "code",
   "execution_count": 7,
   "metadata": {},
   "outputs": [
    {
     "name": "stdout",
     "output_type": "stream",
     "text": [
      "<class 'pandas.core.frame.DataFrame'>\n",
      "RangeIndex: 486496 entries, 0 to 486495\n",
      "Data columns (total 21 columns):\n",
      " #   Column                      Non-Null Count   Dtype  \n",
      "---  ------                      --------------   -----  \n",
      " 0   Request #                   486496 non-null  int64  \n",
      " 1   Status                      486496 non-null  object \n",
      " 2   Request Type                486164 non-null  object \n",
      " 3   Subrequest Type             483005 non-null  object \n",
      " 4   Additional Subrequest Type  482625 non-null  object \n",
      " 5   Date / Time Opened          486496 non-null  object \n",
      " 6   Date / Time Closed          475795 non-null  object \n",
      " 7   Request Origin              486496 non-null  object \n",
      " 8   System of Origin ID         29269 non-null   object \n",
      " 9   Contact Type                27479 non-null   object \n",
      " 10  Preferred Language          0 non-null       float64\n",
      " 11  State Issue                 486496 non-null  bool   \n",
      " 12  Parent Request              5183 non-null    float64\n",
      " 13  Closed When Created         486496 non-null  bool   \n",
      " 14  Address                     376254 non-null  object \n",
      " 15  City                        370585 non-null  object \n",
      " 16  Council District            370423 non-null  float64\n",
      " 17  ZIP                         370441 non-null  object \n",
      " 18  Latitude                    375511 non-null  float64\n",
      " 19  Longitude                   375511 non-null  float64\n",
      " 20  Mapped Location             375511 non-null  object \n",
      "dtypes: bool(2), float64(5), int64(1), object(13)\n",
      "memory usage: 71.4+ MB\n"
     ]
    }
   ],
   "source": [
    "hub_nash_df.info()"
   ]
  },
  {
   "cell_type": "code",
   "execution_count": 8,
   "metadata": {},
   "outputs": [
    {
     "ename": "SyntaxError",
     "evalue": "invalid syntax (<ipython-input-8-ef55ac71c06d>, line 1)",
     "output_type": "error",
     "traceback": [
      "\u001b[0;36m  File \u001b[0;32m\"<ipython-input-8-ef55ac71c06d>\"\u001b[0;36m, line \u001b[0;32m1\u001b[0m\n\u001b[0;31m    .to_datetime()\u001b[0m\n\u001b[0m    ^\u001b[0m\n\u001b[0;31mSyntaxError\u001b[0m\u001b[0;31m:\u001b[0m invalid syntax\n"
     ]
    }
   ],
   "source": [
    ".to_datetime()"
   ]
  },
  {
   "cell_type": "markdown",
   "metadata": {},
   "source": [
    "### Question 3"
   ]
  },
  {
   "cell_type": "code",
   "execution_count": 17,
   "metadata": {},
   "outputs": [],
   "source": [
    "counties_T = counties_df[counties_df['state'] == 'Tennessee'].drop_duplicates(subset=['county'])\n",
    "counties_T = counties_T['fips']"
   ]
  },
  {
   "cell_type": "code",
   "execution_count": 18,
   "metadata": {},
   "outputs": [],
   "source": [
    "### Davidson county = 47037 fips\n",
    "mask_use_Tenn = mask_use_df[mask_use_df['county_fips'].isin(counties_T)]\n",
    "desc_ten = mask_use_Tenn[['never', 'rarely', 'sometimes', 'frequently', 'always']].describe()\n",
    "david_mask = mask_use_df[mask_use_df['county_fips'] == '47037']"
   ]
  },
  {
   "cell_type": "code",
   "execution_count": 19,
   "metadata": {},
   "outputs": [],
   "source": [
    "desc_ten = desc_ten.append(david_mask)"
   ]
  },
  {
   "cell_type": "code",
   "execution_count": 20,
   "metadata": {},
   "outputs": [
    {
     "data": {
      "text/html": [
       "<div>\n",
       "<style scoped>\n",
       "    .dataframe tbody tr th:only-of-type {\n",
       "        vertical-align: middle;\n",
       "    }\n",
       "\n",
       "    .dataframe tbody tr th {\n",
       "        vertical-align: top;\n",
       "    }\n",
       "\n",
       "    .dataframe thead th {\n",
       "        text-align: right;\n",
       "    }\n",
       "</style>\n",
       "<table border=\"1\" class=\"dataframe\">\n",
       "  <thead>\n",
       "    <tr style=\"text-align: right;\">\n",
       "      <th></th>\n",
       "      <th>never</th>\n",
       "      <th>rarely</th>\n",
       "      <th>sometimes</th>\n",
       "      <th>frequently</th>\n",
       "      <th>always</th>\n",
       "      <th>county_fips</th>\n",
       "    </tr>\n",
       "  </thead>\n",
       "  <tbody>\n",
       "    <tr>\n",
       "      <th>count</th>\n",
       "      <td>3142.000000</td>\n",
       "      <td>3142.000000</td>\n",
       "      <td>3142.000000</td>\n",
       "      <td>3142.000000</td>\n",
       "      <td>3142.000000</td>\n",
       "      <td>NaN</td>\n",
       "    </tr>\n",
       "    <tr>\n",
       "      <th>mean</th>\n",
       "      <td>0.079940</td>\n",
       "      <td>0.082919</td>\n",
       "      <td>0.121318</td>\n",
       "      <td>0.207725</td>\n",
       "      <td>0.508094</td>\n",
       "      <td>NaN</td>\n",
       "    </tr>\n",
       "    <tr>\n",
       "      <th>std</th>\n",
       "      <td>0.058538</td>\n",
       "      <td>0.055464</td>\n",
       "      <td>0.058011</td>\n",
       "      <td>0.063571</td>\n",
       "      <td>0.152191</td>\n",
       "      <td>NaN</td>\n",
       "    </tr>\n",
       "    <tr>\n",
       "      <th>min</th>\n",
       "      <td>0.000000</td>\n",
       "      <td>0.000000</td>\n",
       "      <td>0.001000</td>\n",
       "      <td>0.029000</td>\n",
       "      <td>0.115000</td>\n",
       "      <td>NaN</td>\n",
       "    </tr>\n",
       "    <tr>\n",
       "      <th>25%</th>\n",
       "      <td>0.034000</td>\n",
       "      <td>0.040000</td>\n",
       "      <td>0.079000</td>\n",
       "      <td>0.164000</td>\n",
       "      <td>0.393250</td>\n",
       "      <td>NaN</td>\n",
       "    </tr>\n",
       "    <tr>\n",
       "      <th>50%</th>\n",
       "      <td>0.068000</td>\n",
       "      <td>0.073000</td>\n",
       "      <td>0.115000</td>\n",
       "      <td>0.204000</td>\n",
       "      <td>0.497000</td>\n",
       "      <td>NaN</td>\n",
       "    </tr>\n",
       "    <tr>\n",
       "      <th>75%</th>\n",
       "      <td>0.113000</td>\n",
       "      <td>0.115000</td>\n",
       "      <td>0.156000</td>\n",
       "      <td>0.247000</td>\n",
       "      <td>0.613750</td>\n",
       "      <td>NaN</td>\n",
       "    </tr>\n",
       "    <tr>\n",
       "      <th>max</th>\n",
       "      <td>0.432000</td>\n",
       "      <td>0.384000</td>\n",
       "      <td>0.422000</td>\n",
       "      <td>0.549000</td>\n",
       "      <td>0.889000</td>\n",
       "      <td>NaN</td>\n",
       "    </tr>\n",
       "    <tr>\n",
       "      <th>2446</th>\n",
       "      <td>0.020000</td>\n",
       "      <td>0.037000</td>\n",
       "      <td>0.086000</td>\n",
       "      <td>0.181000</td>\n",
       "      <td>0.677000</td>\n",
       "      <td>47037</td>\n",
       "    </tr>\n",
       "  </tbody>\n",
       "</table>\n",
       "</div>"
      ],
      "text/plain": [
       "             never       rarely    sometimes   frequently       always  \\\n",
       "count  3142.000000  3142.000000  3142.000000  3142.000000  3142.000000   \n",
       "mean      0.079940     0.082919     0.121318     0.207725     0.508094   \n",
       "std       0.058538     0.055464     0.058011     0.063571     0.152191   \n",
       "min       0.000000     0.000000     0.001000     0.029000     0.115000   \n",
       "25%       0.034000     0.040000     0.079000     0.164000     0.393250   \n",
       "50%       0.068000     0.073000     0.115000     0.204000     0.497000   \n",
       "75%       0.113000     0.115000     0.156000     0.247000     0.613750   \n",
       "max       0.432000     0.384000     0.422000     0.549000     0.889000   \n",
       "2446      0.020000     0.037000     0.086000     0.181000     0.677000   \n",
       "\n",
       "      county_fips  \n",
       "count         NaN  \n",
       "mean          NaN  \n",
       "std           NaN  \n",
       "min           NaN  \n",
       "25%           NaN  \n",
       "50%           NaN  \n",
       "75%           NaN  \n",
       "max           NaN  \n",
       "2446        47037  "
      ]
     },
     "execution_count": 20,
     "metadata": {},
     "output_type": "execute_result"
    }
   ],
   "source": [
    "desc_county = mask_use_df[['never', 'rarely', 'sometimes', 'frequently', 'always']].describe()\n",
    "desc_county = desc_county.append(david_mask)\n",
    "desc_county"
   ]
  },
  {
   "cell_type": "code",
   "execution_count": 21,
   "metadata": {},
   "outputs": [
    {
     "data": {
      "text/html": [
       "<div>\n",
       "<style scoped>\n",
       "    .dataframe tbody tr th:only-of-type {\n",
       "        vertical-align: middle;\n",
       "    }\n",
       "\n",
       "    .dataframe tbody tr th {\n",
       "        vertical-align: top;\n",
       "    }\n",
       "\n",
       "    .dataframe thead th {\n",
       "        text-align: right;\n",
       "    }\n",
       "</style>\n",
       "<table border=\"1\" class=\"dataframe\">\n",
       "  <thead>\n",
       "    <tr style=\"text-align: right;\">\n",
       "      <th></th>\n",
       "      <th>never</th>\n",
       "      <th>rarely</th>\n",
       "      <th>sometimes</th>\n",
       "      <th>frequently</th>\n",
       "      <th>always</th>\n",
       "      <th>county_fips</th>\n",
       "    </tr>\n",
       "  </thead>\n",
       "  <tbody>\n",
       "    <tr>\n",
       "      <th>count</th>\n",
       "      <td>95.000000</td>\n",
       "      <td>95.000000</td>\n",
       "      <td>95.000000</td>\n",
       "      <td>95.000000</td>\n",
       "      <td>95.000000</td>\n",
       "      <td>NaN</td>\n",
       "    </tr>\n",
       "    <tr>\n",
       "      <th>mean</th>\n",
       "      <td>0.110042</td>\n",
       "      <td>0.101358</td>\n",
       "      <td>0.151958</td>\n",
       "      <td>0.209526</td>\n",
       "      <td>0.427189</td>\n",
       "      <td>NaN</td>\n",
       "    </tr>\n",
       "    <tr>\n",
       "      <th>std</th>\n",
       "      <td>0.046025</td>\n",
       "      <td>0.044597</td>\n",
       "      <td>0.048683</td>\n",
       "      <td>0.057255</td>\n",
       "      <td>0.087844</td>\n",
       "      <td>NaN</td>\n",
       "    </tr>\n",
       "    <tr>\n",
       "      <th>min</th>\n",
       "      <td>0.018000</td>\n",
       "      <td>0.001000</td>\n",
       "      <td>0.033000</td>\n",
       "      <td>0.083000</td>\n",
       "      <td>0.249000</td>\n",
       "      <td>NaN</td>\n",
       "    </tr>\n",
       "    <tr>\n",
       "      <th>25%</th>\n",
       "      <td>0.080500</td>\n",
       "      <td>0.071000</td>\n",
       "      <td>0.118000</td>\n",
       "      <td>0.173500</td>\n",
       "      <td>0.365000</td>\n",
       "      <td>NaN</td>\n",
       "    </tr>\n",
       "    <tr>\n",
       "      <th>50%</th>\n",
       "      <td>0.108000</td>\n",
       "      <td>0.093000</td>\n",
       "      <td>0.150000</td>\n",
       "      <td>0.212000</td>\n",
       "      <td>0.411000</td>\n",
       "      <td>NaN</td>\n",
       "    </tr>\n",
       "    <tr>\n",
       "      <th>75%</th>\n",
       "      <td>0.142000</td>\n",
       "      <td>0.129000</td>\n",
       "      <td>0.188000</td>\n",
       "      <td>0.240500</td>\n",
       "      <td>0.480000</td>\n",
       "      <td>NaN</td>\n",
       "    </tr>\n",
       "    <tr>\n",
       "      <th>max</th>\n",
       "      <td>0.219000</td>\n",
       "      <td>0.243000</td>\n",
       "      <td>0.264000</td>\n",
       "      <td>0.362000</td>\n",
       "      <td>0.682000</td>\n",
       "      <td>NaN</td>\n",
       "    </tr>\n",
       "    <tr>\n",
       "      <th>2446</th>\n",
       "      <td>0.020000</td>\n",
       "      <td>0.037000</td>\n",
       "      <td>0.086000</td>\n",
       "      <td>0.181000</td>\n",
       "      <td>0.677000</td>\n",
       "      <td>47037</td>\n",
       "    </tr>\n",
       "  </tbody>\n",
       "</table>\n",
       "</div>"
      ],
      "text/plain": [
       "           never     rarely  sometimes  frequently     always county_fips\n",
       "count  95.000000  95.000000  95.000000   95.000000  95.000000         NaN\n",
       "mean    0.110042   0.101358   0.151958    0.209526   0.427189         NaN\n",
       "std     0.046025   0.044597   0.048683    0.057255   0.087844         NaN\n",
       "min     0.018000   0.001000   0.033000    0.083000   0.249000         NaN\n",
       "25%     0.080500   0.071000   0.118000    0.173500   0.365000         NaN\n",
       "50%     0.108000   0.093000   0.150000    0.212000   0.411000         NaN\n",
       "75%     0.142000   0.129000   0.188000    0.240500   0.480000         NaN\n",
       "max     0.219000   0.243000   0.264000    0.362000   0.682000         NaN\n",
       "2446    0.020000   0.037000   0.086000    0.181000   0.677000       47037"
      ]
     },
     "execution_count": 21,
     "metadata": {},
     "output_type": "execute_result"
    }
   ],
   "source": [
    "desc_ten"
   ]
  },
  {
   "cell_type": "markdown",
   "metadata": {},
   "source": [
    "### Graphitbruh"
   ]
  },
  {
   "cell_type": "code",
   "execution_count": 22,
   "metadata": {},
   "outputs": [],
   "source": [
    "desc_ten = desc_ten.iloc[[1,3,4,5,6,7,8], 0:]\n",
    "tn_always = desc_ten['always'].tolist()"
   ]
  },
  {
   "cell_type": "code",
   "execution_count": 40,
   "metadata": {},
   "outputs": [
    {
     "data": {
      "text/plain": [
       "[Text(0, 0.5, 'Percents'),\n",
       " Text(0.5, 0, 'Descriptors'),\n",
       " Text(0.5, 1.0, 'When compared to the descriptive metrics of \"Always\" mask users in TN, we see that Davidson is doing quite well')]"
      ]
     },
     "execution_count": 40,
     "metadata": {},
     "output_type": "execute_result"
    },
    {
     "data": {
      "image/png": "[encoded data removed]",
      "text/plain": [
       "<Figure size 1152x504 with 1 Axes>"
      ]
     },
     "metadata": {},
     "output_type": "display_data"
    }
   ],
   "source": [
    "x = ['mean', 'min', '25%', '50%', '75%', 'max', 'Davidson']\n",
    "txpos = [i for i, _ in enumerate(x)]\n",
    "sb.set_style('darkgrid')\n",
    "fig,tax=plt.subplots(figsize=(16,7))\n",
    "tax = sb.barplot(x, tn_always, palette=['ForestGreen', 'ForestGreen', 'ForestGreen', 'ForestGreen', 'ForestGreen', 'ForestGreen', 'Chartreuse'])\n",
    "tax.set(xlabel = 'Descriptors', ylabel = 'Percents', title = 'When compared to the descriptive metrics of \"Always\" mask users in TN, we see that Davidson is doing quite well')"
   ]
  },
  {
   "cell_type": "code",
   "execution_count": 24,
   "metadata": {},
   "outputs": [],
   "source": [
    "tn_never = desc_ten['never'].tolist()"
   ]
  },
  {
   "cell_type": "code",
   "execution_count": 32,
   "metadata": {},
   "outputs": [
    {
     "data": {
      "text/plain": [
       "[Text(0, 0.5, 'Percents'),\n",
       " Text(0.5, 0, 'Descriptors'),\n",
       " Text(0.5, 1.0, 'When taking the \"Never\" metrics of the same, we see that we are still doing well comparatively')]"
      ]
     },
     "execution_count": 32,
     "metadata": {},
     "output_type": "execute_result"
    },
    {
     "data": {
      "image/png": "[encoded data removed]",
      "text/plain": [
       "<Figure size 1152x504 with 1 Axes>"
      ]
     },
     "metadata": {},
     "output_type": "display_data"
    }
   ],
   "source": [
    "fig,tnx=plt.subplots(figsize=(16,7))\n",
    "tnx = sb.barplot(x, tn_never, palette=['DarkRed', 'DarkRed', 'DarkRed', 'DarkRed', 'DarkRed', 'DarkRed', 'Red'])\n",
    "tnx.set(xlabel = 'Descriptors', ylabel = 'Percents', title = 'When taking the \"Never\" metrics of the same, we see that we are still doing well comparatively')"
   ]
  },
  {
   "cell_type": "code",
   "execution_count": 26,
   "metadata": {},
   "outputs": [],
   "source": [
    "desc_county = desc_county.iloc[[1,3,4,5,6,7,8], 0:]\n",
    "county_always = desc_county['always'].tolist()"
   ]
  },
  {
   "cell_type": "code",
   "execution_count": 33,
   "metadata": {},
   "outputs": [
    {
     "data": {
      "text/plain": [
       "[Text(0, 0.5, 'Percents'),\n",
       " Text(0.5, 0, 'Descriptors'),\n",
       " Text(0.5, 1.0, 'Davidson is in the top 25% of national \"Always\" mask wearers')]"
      ]
     },
     "execution_count": 33,
     "metadata": {},
     "output_type": "execute_result"
    },
    {
     "data": {
      "image/png": "[encoded data removed]",
      "text/plain": [
       "<Figure size 1152x504 with 1 Axes>"
      ]
     },
     "metadata": {},
     "output_type": "display_data"
    }
   ],
   "source": [
    "fig,cax=plt.subplots(figsize=(16,7))\n",
    "cax = sb.barplot(x, county_always, palette=['ForestGreen', 'ForestGreen', 'ForestGreen', 'ForestGreen', 'ForestGreen', 'ForestGreen', 'Chartreuse'])\n",
    "cax.set(xlabel = 'Descriptors', ylabel = 'Percents', title = 'Davidson is in the top 25% of national \"Always\" mask wearers')"
   ]
  },
  {
   "cell_type": "code",
   "execution_count": 28,
   "metadata": {},
   "outputs": [],
   "source": [
    "county_never = desc_county['never'].tolist()"
   ]
  },
  {
   "cell_type": "code",
   "execution_count": 34,
   "metadata": {},
   "outputs": [
    {
     "data": {
      "text/plain": [
       "[Text(0, 0.5, 'Percents'),\n",
       " Text(0.5, 0, 'Descriptors'),\n",
       " Text(0.5, 1.0, 'Again, while the national averages of those who never wear their masks are thankfully low, we are in the lower end of the 25% percentile')]"
      ]
     },
     "execution_count": 34,
     "metadata": {},
     "output_type": "execute_result"
    },
    {
     "data": {
      "image/png": "[encoded data removed]",
      "text/plain": [
       "<Figure size 1152x504 with 1 Axes>"
      ]
     },
     "metadata": {},
     "output_type": "display_data"
    }
   ],
   "source": [
    "fig,cnx=plt.subplots(figsize=(16,7))\n",
    "cnx = sb.barplot(x, county_never, palette=['DarkRed', 'DarkRed', 'DarkRed', 'DarkRed', 'DarkRed', 'DarkRed', 'Red'])\n",
    "cnx.set(xlabel = 'Descriptors', ylabel = 'Percents', title = \"Again, while the national averages of those who never wear their masks are thankfully low, we are in the lower end of the 25% percentile\")"
   ]
  },
  {
   "cell_type": "markdown",
   "metadata": {},
   "source": [
    "### Question 5"
   ]
  },
  {
   "cell_type": "code",
   "execution_count": 94,
   "metadata": {},
   "outputs": [],
   "source": [
    "cluster_type = clusters_df.groupby('Facility Type', sort=True)['# Cases'].sum().reset_index()\n",
    "cluster_type = cluster_type.sort_values('# Cases', ascending=False)\n",
    "cluster_type = cluster_type.replace(to_replace='LTCF', value='Long Term Care Facility')"
   ]
  },
  {
   "cell_type": "code",
   "execution_count": 95,
   "metadata": {},
   "outputs": [
    {
     "data": {
      "text/plain": [
       "<matplotlib.axes._subplots.AxesSubplot at 0x7ff54e2dec10>"
      ]
     },
     "execution_count": 95,
     "metadata": {},
     "output_type": "execute_result"
    },
    {
     "data": {
      "image/png": "[encoded data removed]",
      "text/plain": [
       "<Figure size 1152x504 with 1 Axes>"
      ]
     },
     "metadata": {},
     "output_type": "display_data"
    }
   ],
   "source": [
    "fig,ax=plt.subplots(figsize=(16,7))\n",
    "sb.set(font_scale=1.5)\n",
    "ax.set(title = 'This graph shows the reported clusters by facility type')\n",
    "sb.barplot(x=cluster_type['# Cases'], y=cluster_type['Facility Type'], orient='h', palette='rocket')"
   ]
  },
  {
   "cell_type": "code",
   "execution_count": 87,
   "metadata": {},
   "outputs": [],
   "source": [
    "# pretty sure we were all aware that long term care and correctional facilities were good places to get sick,\n",
    "# but I was personally surprised at construction. Mask up, yall."
   ]
  },
  {
   "cell_type": "code",
   "execution_count": null,
   "metadata": {},
   "outputs": [],
   "source": []
  }
 ],
 "metadata": {
  "kernelspec": {
   "display_name": "Python 3",
   "language": "python",
   "name": "python3"
  },
  "language_info": {
   "codemirror_mode": {
    "name": "ipython",
    "version": 3
   },
   "file_extension": ".py",
   "mimetype": "text/x-python",
   "name": "python",
   "nbconvert_exporter": "python",
   "pygments_lexer": "ipython3",
   "version": "3.8.3"
  }
 },
 "nbformat": 4,
 "nbformat_minor": 4
}
